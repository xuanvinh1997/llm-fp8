{
 "cells": [
  {
   "cell_type": "code",
   "execution_count": 2,
   "id": "6d24b208",
   "metadata": {},
   "outputs": [
    {
     "name": "stderr",
     "output_type": "stream",
     "text": [
      "/home/vinhpx/miniconda3/envs/llm-fp8/lib/python3.12/site-packages/tqdm/auto.py:21: TqdmWarning: IProgress not found. Please update jupyter and ipywidgets. See https://ipywidgets.readthedocs.io/en/stable/user_install.html\n",
      "  from .autonotebook import tqdm as notebook_tqdm\n"
     ]
    }
   ],
   "source": [
    "from datasets import load_dataset\n"
   ]
  },
  {
   "cell_type": "code",
   "execution_count": null,
   "id": "5e27377d",
   "metadata": {},
   "outputs": [],
   "source": [
    "\n",
    "dataset = load_dataset('nvidia/OpenMathInstruct-2', split='train_1M',)"
   ]
  },
  {
   "cell_type": "code",
   "execution_count": 36,
   "id": "1b16a5f7",
   "metadata": {},
   "outputs": [
    {
     "data": {
      "text/plain": [
       "Dataset({\n",
       "    features: ['problem', 'generated_solution', 'expected_answer', 'problem_source'],\n",
       "    num_rows: 1000000\n",
       "})"
      ]
     },
     "execution_count": 36,
     "metadata": {},
     "output_type": "execute_result"
    }
   ],
   "source": [
    "\n",
    "dataset"
   ]
  },
  {
   "cell_type": "code",
   "execution_count": 37,
   "id": "c1055c1f",
   "metadata": {},
   "outputs": [
    {
     "data": {
      "text/plain": [
       "{'problem': 'Solve for $y$:\\n\\n$$\\\\frac{y^2 - 3y + 2}{y - 2} = y + 1$$',\n",
       " 'generated_solution': 'Start by multiplying both sides by $y - 2$ to eliminate the denominator:\\n\\\\[ (y^2 - 3y + 2) = (y + 1)(y - 2) \\\\]\\n\\nExpand both sides:\\n\\\\[ y^2 - 3y + 2 = y^2 - y - 2 \\\\]\\n\\nSubtract $y^2$ from both sides to get:\\n\\\\[ -3y + 2 = -y - 2 \\\\]\\n\\nAdd $3y$ to both sides:\\n\\\\[ 2 = 2y - 2 \\\\]\\n\\nAdd $2$ to both sides:\\n\\\\[ 4 = 2y \\\\]\\n\\nDivide by $2$ to solve for $y$:\\n\\\\[ y = \\\\frac{4}{2} \\\\]\\n\\n\\\\[ y = \\\\boxed{2} \\\\]',\n",
       " 'expected_answer': '2',\n",
       " 'problem_source': 'augmented_math'}"
      ]
     },
     "execution_count": 37,
     "metadata": {},
     "output_type": "execute_result"
    }
   ],
   "source": [
    "dataset[0]"
   ]
  },
  {
   "cell_type": "code",
   "execution_count": 42,
   "id": "20c74e1c",
   "metadata": {},
   "outputs": [],
   "source": [
    "from transformers import AutoTokenizer\n",
    "qwen2_5b_tokenizer = AutoTokenizer.from_pretrained(\"Qwen/Qwen2.5-Math-7B-Instruct\",)"
   ]
  },
  {
   "cell_type": "code",
   "execution_count": 43,
   "id": "2377d1d3",
   "metadata": {},
   "outputs": [],
   "source": [
    "# {'problem': 'Solve for $y$:\\n\\n$$\\\\frac{y^2 - 3y + 2}{y - 2} = y + 1$$',\n",
    "#  'generated_solution': 'Start by multiplying both sides by $y - 2$ to eliminate the denominator:\\n\\\\[ (y^2 - 3y + 2) = (y + 1)(y - 2) \\\\]\\n\\nExpand both sides:\\n\\\\[ y^2 - 3y + 2 = y^2 - y - 2 \\\\]\\n\\nSubtract $y^2$ from both sides to get:\\n\\\\[ -3y + 2 = -y - 2 \\\\]\\n\\nAdd $3y$ to both sides:\\n\\\\[ 2 = 2y - 2 \\\\]\\n\\nAdd $2$ to both sides:\\n\\\\[ 4 = 2y \\\\]\\n\\nDivide by $2$ to solve for $y$:\\n\\\\[ y = \\\\frac{4}{2} \\\\]\\n\\n\\\\[ y = \\\\boxed{2} \\\\]',\n",
    "#  'expected_answer': '2',\n",
    "#  'problem_source': 'augmented_math'}\n",
    "def create_texts(examples):\n",
    "    texts = []\n",
    "    for prob, sol in zip(examples[\"problem\"], examples[\"generated_solution\"]):\n",
    "        text = qwen2_5b_tokenizer.apply_chat_template(\n",
    "            conversation=[\n",
    "                {\"role\": \"system\", \"content\": \"You are a helpful assistant that helps people find information.\"},\n",
    "                {\"role\": \"user\", \"content\": prob},\n",
    "                {\"role\": \"assistant\", \"content\": sol},\n",
    "            ],\n",
    "            tokenize=False\n",
    "        )\n",
    "        texts.append(text)\n",
    "    return {\"text\": texts}"
   ]
  },
  {
   "cell_type": "code",
   "execution_count": null,
   "id": "775a0ada",
   "metadata": {},
   "outputs": [],
   "source": [
    "dataset = dataset.map(create_texts, batched=True, remove_columns=dataset.column_names, num_proc=12)"
   ]
  },
  {
   "cell_type": "code",
   "execution_count": 45,
   "id": "487a8882",
   "metadata": {},
   "outputs": [
    {
     "data": {
      "text/plain": [
       "{'text': '<|im_start|>system\\nYou are Qwen, created by Alibaba Cloud. You are a helpful assistant.<|im_end|>\\n<|im_start|>user\\nSolve for $y$:\\n\\n$$\\\\frac{y^2 - 3y + 2}{y - 2} = y + 1$$<|im_end|>\\n<|im_start|>assistant\\nStart by multiplying both sides by $y - 2$ to eliminate the denominator:\\n\\\\[ (y^2 - 3y + 2) = (y + 1)(y - 2) \\\\]\\n\\nExpand both sides:\\n\\\\[ y^2 - 3y + 2 = y^2 - y - 2 \\\\]\\n\\nSubtract $y^2$ from both sides to get:\\n\\\\[ -3y + 2 = -y - 2 \\\\]\\n\\nAdd $3y$ to both sides:\\n\\\\[ 2 = 2y - 2 \\\\]\\n\\nAdd $2$ to both sides:\\n\\\\[ 4 = 2y \\\\]\\n\\nDivide by $2$ to solve for $y$:\\n\\\\[ y = \\\\frac{4}{2} \\\\]\\n\\n\\\\[ y = \\\\boxed{2} \\\\]<|im_end|>\\n'}"
      ]
     },
     "execution_count": 45,
     "metadata": {},
     "output_type": "execute_result"
    }
   ],
   "source": [
    "dataset[0]"
   ]
  },
  {
   "cell_type": "code",
   "execution_count": null,
   "id": "dd2e792f",
   "metadata": {},
   "outputs": [],
   "source": []
  }
 ],
 "metadata": {
  "kernelspec": {
   "display_name": "llm-fp8",
   "language": "python",
   "name": "python3"
  },
  "language_info": {
   "codemirror_mode": {
    "name": "ipython",
    "version": 3
   },
   "file_extension": ".py",
   "mimetype": "text/x-python",
   "name": "python",
   "nbconvert_exporter": "python",
   "pygments_lexer": "ipython3",
   "version": "3.12.11"
  }
 },
 "nbformat": 4,
 "nbformat_minor": 5
}
