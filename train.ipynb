{
 "cells": [
  {
   "cell_type": "code",
   "execution_count": null,
   "id": "dcd60aaf-cee9-484e-aafe-48783d4c386b",
   "metadata": {
    "scrolled": true
   },
   "outputs": [],
   "source": [
    "!pip install torch torchvision torchaudio --index-url https://download.pytorch.org/whl/cu128"
   ]
  },
  {
   "cell_type": "code",
   "execution_count": null,
   "id": "65dbf0b4-507b-4168-a892-b73af9920129",
   "metadata": {
    "scrolled": true
   },
   "outputs": [],
   "source": [
    "!pip install transformers transformer_engine[pytorch] accelerate datasets flash_attn"
   ]
  },
  {
   "cell_type": "code",
   "execution_count": null,
   "id": "e710d7ba-6308-4583-aaa1-bcf6bee7c437",
   "metadata": {},
   "outputs": [],
   "source": [
    "!huggingface-cli login --token "
   ]
  },
  {
   "cell_type": "code",
   "execution_count": 1,
   "id": "beb6f609",
   "metadata": {},
   "outputs": [
    {
     "name": "stdout",
     "output_type": "stream",
     "text": [
      "Exception is 'HyperParameters' object has no attribute 'hf_access_token'\n"
     ]
    },
    {
     "data": {
      "application/vnd.jupyter.widget-view+json": {
       "model_id": "68b25ab4e32544788e18e0cedc62cb98",
       "version_major": 2,
       "version_minor": 0
      },
      "text/plain": [
       "Fetching 13 files:   0%|          | 0/13 [00:00<?, ?it/s]"
      ]
     },
     "metadata": {},
     "output_type": "display_data"
    },
    {
     "name": "stdout",
     "output_type": "stream",
     "text": [
      "Model cache directory : /root/.cache/huggingface/hub/models--meta-llama--Llama-3.2-1B/snapshots/4e20de362430cd3b72f300e6b0f18e50e7166e08\n"
     ]
    },
    {
     "name": "stderr",
     "output_type": "stream",
     "text": [
      "/workspace/llm-fp8/te_llama.py:181: SyntaxWarning: invalid escape sequence '\\d'\n",
      "  layer_prefix_pat = \"model.layers.\\d+.\"\n",
      "Supported flash-attn versions are >= 2.1.1, <= 2.7.4.post1. Found flash-attn 2.8.2.\n"
     ]
    },
    {
     "name": "stdout",
     "output_type": "stream",
     "text": [
      "Resolved archive file: /root/.cache/huggingface/hub/models--meta-llama--Llama-3.2-1B/snapshots/4e20de362430cd3b72f300e6b0f18e50e7166e08/model.safetensors\n",
      "LlamaForCausalLM(\n",
      "  (model): LlamaModel(\n",
      "    (embed_tokens): Embedding(128256, 2048)\n",
      "    (layers): ModuleList(\n",
      "      (0-15): 16 x TELlamaDecoderLayer(\n",
      "        (self_attention): MultiheadAttention(\n",
      "          (layernorm_qkv): LayerNormLinear()\n",
      "          (core_attention): DotProductAttention(\n",
      "            (flash_attention): FlashAttention()\n",
      "            (fused_attention): FusedAttention()\n",
      "            (unfused_attention): UnfusedDotProductAttention(\n",
      "              (scale_mask_softmax): FusedScaleMaskSoftmax()\n",
      "              (attention_dropout): Dropout(p=0, inplace=False)\n",
      "            )\n",
      "          )\n",
      "          (proj): Linear()\n",
      "        )\n",
      "        (layernorm_mlp): LayerNormMLP()\n",
      "      )\n",
      "    )\n",
      "    (norm): LlamaRMSNorm((2048,), eps=1e-05)\n",
      "    (rotary_emb): LlamaRotaryEmbedding()\n",
      "  )\n",
      "  (lm_head): Linear(in_features=2048, out_features=128256, bias=False)\n",
      ")\n"
     ]
    },
    {
     "name": "stderr",
     "output_type": "stream",
     "text": [
      "/usr/local/lib/python3.12/dist-packages/accelerate/accelerator.py:516: UserWarning: `log_with=wandb` was passed but no supported trackers are currently installed.\n",
      "  warnings.warn(f\"`log_with={log_with}` was passed but no supported trackers are currently installed.\")\n",
      "Repo card metadata block was not found. Setting CardData to empty.\n"
     ]
    },
    {
     "name": "stdout",
     "output_type": "stream",
     "text": [
      "10 finetuning steps complete!\n",
      "Average time taken per step: 175 milliseconds\n"
     ]
    }
   ],
   "source": [
    "# Import necessary packages, methods and variables\n",
    "from utils import *\n",
    "\n",
    "\n",
    "hyperparams.model_name = \"meta-llama/Llama-3.2-1B\"\n",
    "hyperparams.weights_cache_dir = \"/root/.cache/huggingface/hub\"\n",
    "hyperparams.mixed_precision = \"bf16\"\n",
    "\n",
    "\n",
    "# Init the model and accelerator wrapper\n",
    "model = init_te_llama_model(hyperparams)\n",
    "print(model)\n",
    "accelerator, model, optimizer, train_dataloader, lr_scheduler = wrap_with_accelerator(model, hyperparams)\n",
    "\n",
    "\n",
    "# Finetune the model\n",
    "finetune_model(model, hyperparams, accelerator, train_dataloader, optimizer, lr_scheduler)"
   ]
  },
  {
   "cell_type": "code",
   "execution_count": 1,
   "id": "78866ff7",
   "metadata": {},
   "outputs": [
    {
     "name": "stdout",
     "output_type": "stream",
     "text": [
      "Exception is 'HyperParameters' object has no attribute 'hf_access_token'\n"
     ]
    },
    {
     "data": {
      "application/vnd.jupyter.widget-view+json": {
       "model_id": "e97b99b372fc484ba1476cfefddb28ab",
       "version_major": 2,
       "version_minor": 0
      },
      "text/plain": [
       "Fetching 13 files:   0%|          | 0/13 [00:00<?, ?it/s]"
      ]
     },
     "metadata": {},
     "output_type": "display_data"
    },
    {
     "name": "stdout",
     "output_type": "stream",
     "text": [
      "Model cache directory : /root/.cache/huggingface/hub/models--meta-llama--Llama-3.2-1B/snapshots/4e20de362430cd3b72f300e6b0f18e50e7166e08\n"
     ]
    },
    {
     "name": "stderr",
     "output_type": "stream",
     "text": [
      "/workspace/llm-fp8/te_llama.py:181: SyntaxWarning: invalid escape sequence '\\d'\n",
      "  layer_prefix_pat = \"model.layers.\\d+.\"\n",
      "Supported flash-attn versions are >= 2.1.1, <= 2.7.4.post1. Found flash-attn 2.8.2.\n"
     ]
    },
    {
     "name": "stdout",
     "output_type": "stream",
     "text": [
      "Resolved archive file: /root/.cache/huggingface/hub/models--meta-llama--Llama-3.2-1B/snapshots/4e20de362430cd3b72f300e6b0f18e50e7166e08/model.safetensors\n",
      "LlamaForCausalLM(\n",
      "  (model): LlamaModel(\n",
      "    (embed_tokens): Embedding(128256, 2048)\n",
      "    (layers): ModuleList(\n",
      "      (0-15): 16 x TELlamaDecoderLayer(\n",
      "        (self_attention): MultiheadAttention(\n",
      "          (layernorm_qkv): LayerNormLinear()\n",
      "          (core_attention): DotProductAttention(\n",
      "            (flash_attention): FlashAttention()\n",
      "            (fused_attention): FusedAttention()\n",
      "            (unfused_attention): UnfusedDotProductAttention(\n",
      "              (scale_mask_softmax): FusedScaleMaskSoftmax()\n",
      "              (attention_dropout): Dropout(p=0, inplace=False)\n",
      "            )\n",
      "          )\n",
      "          (proj): Linear()\n",
      "        )\n",
      "        (layernorm_mlp): LayerNormMLP()\n",
      "      )\n",
      "    )\n",
      "    (norm): LlamaRMSNorm((2048,), eps=1e-05)\n",
      "    (rotary_emb): LlamaRotaryEmbedding()\n",
      "  )\n",
      "  (lm_head): Linear(in_features=2048, out_features=128256, bias=False)\n",
      ")\n"
     ]
    },
    {
     "name": "stderr",
     "output_type": "stream",
     "text": [
      "/usr/local/lib/python3.12/dist-packages/accelerate/utils/dataclasses.py:420: FutureWarning: FP8RecipeKwargs is deprecated and will be removed in Accelerate v2.0.0. Please use one of the proper FP8 recipe kwargs classes such as TERecipeKwargs or MSAMPRecipeKwargs instead.\n",
      "  warnings.warn(\n",
      "/usr/local/lib/python3.12/dist-packages/accelerate/accelerator.py:516: UserWarning: `log_with=wandb` was passed but no supported trackers are currently installed.\n",
      "  warnings.warn(f\"`log_with={log_with}` was passed but no supported trackers are currently installed.\")\n",
      "Repo card metadata block was not found. Setting CardData to empty.\n"
     ]
    },
    {
     "data": {
      "application/vnd.jupyter.widget-view+json": {
       "model_id": "3fadf8b72b784058aa83babdc8252f82",
       "version_major": 2,
       "version_minor": 0
      },
      "text/plain": [
       "Map:   0%|          | 0/9846 [00:00<?, ? examples/s]"
      ]
     },
     "metadata": {},
     "output_type": "display_data"
    },
    {
     "name": "stderr",
     "output_type": "stream",
     "text": [
      "/usr/local/lib/python3.12/dist-packages/accelerate/utils/dataclasses.py:420: FutureWarning: FP8RecipeKwargs is deprecated and will be removed in Accelerate v2.0.0. Please use one of the proper FP8 recipe kwargs classes such as TERecipeKwargs or MSAMPRecipeKwargs instead.\n",
      "  warnings.warn(\n"
     ]
    },
    {
     "name": "stdout",
     "output_type": "stream",
     "text": [
      "10 finetuning steps complete!\n",
      "Average time taken per step: 141 milliseconds\n"
     ]
    }
   ],
   "source": [
    "# Import necessary packages, methods and variables\n",
    "from utils import *\n",
    "\n",
    "\n",
    "hyperparams.model_name = \"meta-llama/Llama-3.2-1B\"\n",
    "hyperparams.weights_cache_dir = \"/root/.cache/huggingface/hub\"\n",
    "hyperparams.mixed_precision = \"fp8\"\n",
    "\n",
    "\n",
    "# Init the model and accelerator wrapper\n",
    "model = init_te_llama_model(hyperparams)\n",
    "print(model)\n",
    "accelerator, model, optimizer, train_dataloader, lr_scheduler = wrap_with_accelerator(model, hyperparams)\n",
    "\n",
    "\n",
    "# Finetune the model\n",
    "finetune_model(model, hyperparams, accelerator, train_dataloader, optimizer, lr_scheduler)"
   ]
  },
  {
   "cell_type": "code",
   "execution_count": null,
   "id": "fd77c1a8-fd35-4f7c-b1f8-361f8f1aba57",
   "metadata": {},
   "outputs": [],
   "source": []
  }
 ],
 "metadata": {
  "kernelspec": {
   "display_name": "Python3 (System)",
   "language": "python",
   "name": "system-python"
  },
  "language_info": {
   "codemirror_mode": {
    "name": "ipython",
    "version": 3
   },
   "file_extension": ".py",
   "mimetype": "text/x-python",
   "name": "python",
   "nbconvert_exporter": "python",
   "pygments_lexer": "ipython3",
   "version": "3.12.3"
  }
 },
 "nbformat": 4,
 "nbformat_minor": 5
}
