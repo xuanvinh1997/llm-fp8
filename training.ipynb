{
 "cells": [
  {
   "cell_type": "code",
   "execution_count": null,
   "id": "99365f34",
   "metadata": {},
   "outputs": [],
   "source": [
    "%%capture\n",
    "!pip install 'transformer_engine[pytorch]' datasets einops accelerate transformers ipywidgets"
   ]
  },
  {
   "cell_type": "code",
   "execution_count": 4,
   "id": "37486d0e",
   "metadata": {},
   "outputs": [],
   "source": [
    "from datasets import load_dataset\n",
    "import transformer_engine.pytorch as te\n",
    "from transformer_engine.common import recipe\n",
    "import torch\n",
    "from transformers import AutoModelForCausalLM, AutoTokenizer"
   ]
  },
  {
   "cell_type": "code",
   "execution_count": 45,
   "id": "83406a75",
   "metadata": {},
   "outputs": [
    {
     "data": {
      "text/plain": [
       "Qwen2ForCausalLM(\n",
       "  (model): Qwen2Model(\n",
       "    (embed_tokens): Embedding(151936, 1536)\n",
       "    (layers): ModuleList(\n",
       "      (0-27): 28 x Qwen2DecoderLayer(\n",
       "        (self_attn): Qwen2Attention(\n",
       "          (q_proj): Linear(in_features=1536, out_features=1536, bias=True)\n",
       "          (k_proj): Linear(in_features=1536, out_features=256, bias=True)\n",
       "          (v_proj): Linear(in_features=1536, out_features=256, bias=True)\n",
       "          (o_proj): Linear(in_features=1536, out_features=1536, bias=False)\n",
       "        )\n",
       "        (mlp): Qwen2MLP(\n",
       "          (gate_proj): Linear(in_features=1536, out_features=8960, bias=False)\n",
       "          (up_proj): Linear(in_features=1536, out_features=8960, bias=False)\n",
       "          (down_proj): Linear(in_features=8960, out_features=1536, bias=False)\n",
       "          (act_fn): SiLU()\n",
       "        )\n",
       "        (input_layernorm): Qwen2RMSNorm((1536,), eps=1e-06)\n",
       "        (post_attention_layernorm): Qwen2RMSNorm((1536,), eps=1e-06)\n",
       "      )\n",
       "    )\n",
       "    (norm): Qwen2RMSNorm((1536,), eps=1e-06)\n",
       "    (rotary_emb): Qwen2RotaryEmbedding()\n",
       "  )\n",
       "  (lm_head): Linear(in_features=1536, out_features=151936, bias=False)\n",
       ")"
      ]
     },
     "execution_count": 45,
     "metadata": {},
     "output_type": "execute_result"
    }
   ],
   "source": [
    "model = AutoModelForCausalLM.from_pretrained(\"Qwen/Qwen2.5-1.5B-Instruct\", torch_dtype=torch.bfloat16, device_map=\"auto\")\n",
    "math_tokenizer = AutoTokenizer.from_pretrained(\"Qwen/Qwen2.5-Math-1.5B-Instruct\")\n",
    "model.to(\"cuda\")"
   ]
  },
  {
   "cell_type": "code",
   "execution_count": 15,
   "id": "abf536f3",
   "metadata": {},
   "outputs": [
    {
     "data": {
      "application/vnd.jupyter.widget-view+json": {
       "model_id": "af997b4f4fc045deaddd1fb98c77559e",
       "version_major": 2,
       "version_minor": 0
      },
      "text/plain": [
       "Resolving data files:   0%|          | 0/32 [00:00<?, ?it/s]"
      ]
     },
     "metadata": {},
     "output_type": "display_data"
    },
    {
     "data": {
      "application/vnd.jupyter.widget-view+json": {
       "model_id": "c58b8f7cc10a4c87aafc08fc48ebf0b0",
       "version_major": 2,
       "version_minor": 0
      },
      "text/plain": [
       "Resolving data files:   0%|          | 0/32 [00:00<?, ?it/s]"
      ]
     },
     "metadata": {},
     "output_type": "display_data"
    },
    {
     "data": {
      "application/vnd.jupyter.widget-view+json": {
       "model_id": "44e56d6607bc4c95be84a3e1f2a5c132",
       "version_major": 2,
       "version_minor": 0
      },
      "text/plain": [
       "Loading dataset shards:   0%|          | 0/32 [00:00<?, ?it/s]"
      ]
     },
     "metadata": {},
     "output_type": "display_data"
    }
   ],
   "source": [
    "dataset = load_dataset(\"nvidia/OpenMathInstruct-2\", split=\"train\")"
   ]
  },
  {
   "cell_type": "code",
   "execution_count": 7,
   "id": "c578fa30",
   "metadata": {},
   "outputs": [],
   "source": [
    "fp8_recipe = recipe.Float8BlockScaling(fp8_format=recipe.Format.HYBRID)"
   ]
  },
  {
   "cell_type": "code",
   "execution_count": 8,
   "id": "395453ea",
   "metadata": {},
   "outputs": [
    {
     "data": {
      "text/plain": [
       "Dataset({\n",
       "    features: ['problem', 'generated_solution', 'expected_answer', 'problem_source'],\n",
       "    num_rows: 13972791\n",
       "})"
      ]
     },
     "execution_count": 8,
     "metadata": {},
     "output_type": "execute_result"
    }
   ],
   "source": [
    "dataset"
   ]
  },
  {
   "cell_type": "code",
   "execution_count": 11,
   "id": "4d76ff6d",
   "metadata": {},
   "outputs": [
    {
     "name": "stdout",
     "output_type": "stream",
     "text": [
      "32\n"
     ]
    }
   ],
   "source": [
    "!nproc"
   ]
  },
  {
   "cell_type": "code",
   "execution_count": null,
   "id": "6068211f",
   "metadata": {},
   "outputs": [
    {
     "data": {
      "application/vnd.jupyter.widget-view+json": {
       "model_id": "a7f4f369a0934caea2c4ba2065de16ca",
       "version_major": 2,
       "version_minor": 0
      },
      "text/plain": [
       "Map (num_proc=32):   0%|          | 0/13972791 [00:00<?, ? examples/s]"
      ]
     },
     "metadata": {},
     "output_type": "display_data"
    }
   ],
   "source": [
    "def apply_chat_template(sample_batch):\n",
    "    return { \"text\": [\n",
    "        math_tokenizer.apply_chat_template(\n",
    "            [\n",
    "                {\"role\": \"user\", \"content\": s[0]},\n",
    "                {\"role\": \"assistant\", \"content\": s[1]}\n",
    "            ],\n",
    "            add_generation_prompt=False,\n",
    "            tokenize=False\n",
    "        )\n",
    "         for s in zip(sample_batch[\"problem\"], sample_batch[\"generated_solution\"])]\n",
    "    }\n",
    "text_dataset = dataset.map(apply_chat_template, batched=True, remove_columns=dataset.column_names, num_proc=32)"
   ]
  },
  {
   "cell_type": "code",
   "execution_count": null,
   "id": "a94b687a",
   "metadata": {},
   "outputs": [
    {
     "data": {
      "text/plain": [
       "{'text': '<|im_start|>system\\nPlease reason step by step, and put your final answer within \\\\boxed{}.<|im_end|>\\n<|im_start|>user\\nAva is planning a camping trip with her friends. She wants to make sure they have enough granola bars for snacks. There will be five people total: Ava, her two friends, and her parents. They will spend 3 days and 2 nights at the campsite, and they plan to have 2 granola bars per person for breakfast and 1 granola bar per person for an afternoon snack each day. How many granola bars will Ava need to pack in total for the entire trip?<|im_end|>\\n<|im_start|>assistant\\nThere will be a total of 5 people.\\nEach person needs 2 granola bars for breakfast and 1 granola bar for snack. This amounts to a total of 3 granola bars per person per day.\\nSince the trip is 3 days long, each person will need 3 granola bars/day * 3 days = 9 granola bars.\\nSo for 5 people, Ava will need 5 * 9 = 45 granola bars.\\nThus, Ava will need to pack \\\\boxed{45} granola bars in total for the entire trip.<|im_end|>\\n'}"
      ]
     },
     "execution_count": 14,
     "metadata": {},
     "output_type": "execute_result"
    }
   ],
   "source": [
    "text_dataset[0]"
   ]
  },
  {
   "cell_type": "code",
   "execution_count": 16,
   "id": "ac1f08b9",
   "metadata": {},
   "outputs": [],
   "source": [
    "samples = dataset.shuffle(seed=42).select(range(12))\n"
   ]
  },
  {
   "cell_type": "code",
   "execution_count": 23,
   "id": "89cf06b1",
   "metadata": {},
   "outputs": [
    {
     "data": {
      "text/plain": [
       "Column(['Find the volume of a sphere with a diameter of 18 meters. Express your answer in terms of $\\\\pi$.', 'The following line is parameterized, so that its direction vector is of the form $\\\\begin{pmatrix} a \\\\\\\\ -1 \\\\end{pmatrix}.$  Find $a.$\\n\\n[asy]\\nunitsize(0.4 cm);\\n\\npair A, B, L, R;\\nint i, n;\\n\\nfor (i = -8; i <= 8; ++i) {\\n  draw((i,-8)--(i,8),gray(0.7));\\n  draw((-8,i)--(8,i),gray(0.7));\\n}\\n\\ndraw((-8,0)--(8,0),Arrows(6));\\ndraw((0,-8)--(0,8),Arrows(6));\\n\\nA = (-2,5);\\nB = (1,0);\\nL = extension(A, B, (0,8), (1,8));\\nR = extension(A, B, (0,-8), (1,-8));\\n\\ndraw(L--R, red);\\n\\nlabel(\"$x$\", (8,0), E);\\nlabel(\"$y$\", (0,8), N);\\n[/asy]', 'At a school party, there are 15 students who like math, 20 students who like history, and 7 students who like both subjects. If there are 42 students in total, how many students like neither math nor history?', 'A water tank can be filled by two pipes, A and B. Pipe A fills the tank at a rate of 2 cubic meters per hour, while pipe B fills it at a rate of 3 cubic meters per hour. If the tank can hold 120 cubic meters of water, how many hours would it take to fill the tank if both pipes are used simultaneously?', 'Let $m$ be a positive integer, and let\\n\\\\[\\\\cos \\\\frac{\\\\pi}{4m} = \\\\sqrt{\\\\frac{n + 1}{2n}}.\\\\]Express $\\\\cot \\\\frac{\\\\pi}{m}$ in terms of $n$.'])"
      ]
     },
     "execution_count": 23,
     "metadata": {},
     "output_type": "execute_result"
    }
   ],
   "source": [
    "samples['problem']"
   ]
  },
  {
   "cell_type": "code",
   "execution_count": 47,
   "id": "2fb94cf3",
   "metadata": {},
   "outputs": [
    {
     "name": "stderr",
     "output_type": "stream",
     "text": [
      "A decoder-only architecture is being used, but right-padding was detected! For correct generation results, please set `padding_side='left'` when initializing the tokenizer.\n"
     ]
    },
    {
     "name": "stdout",
     "output_type": "stream",
     "text": [
      "Time taken: 3.14 seconds\n"
     ]
    }
   ],
   "source": [
    "import time\n",
    "inputs = math_tokenizer.batch_encode_plus(list(samples['problem']), return_tensors='pt', padding=True, truncation=True, max_length=512)\n",
    "inputs.to(\"cuda\")\n",
    "t0 = time.time()\n",
    "outputs = model.generate(\n",
    "    **inputs,\n",
    "    max_new_tokens=256,\n",
    "    # do_sample=False,\n",
    "    # use_cache=True,\n",
    "    # return_dict_in_generate=True\n",
    ")\n",
    "t1 = time.time()\n",
    "print(f\"Time taken: {t1 - t0:.2f} seconds\")"
   ]
  },
  {
   "cell_type": "code",
   "execution_count": 50,
   "id": "31ffaedf",
   "metadata": {},
   "outputs": [
    {
     "name": "stderr",
     "output_type": "stream",
     "text": [
      "A decoder-only architecture is being used, but right-padding was detected! For correct generation results, please set `padding_side='left'` when initializing the tokenizer.\n"
     ]
    },
    {
     "name": "stdout",
     "output_type": "stream",
     "text": [
      "Time taken: 2.79 seconds\n"
     ]
    }
   ],
   "source": [
    "import time\n",
    "inputs = math_tokenizer.batch_encode_plus(list(samples['problem']), return_tensors='pt', padding=True, truncation=True, max_length=512)\n",
    "inputs.to(\"cuda\")\n",
    "t0 = time.time()\n",
    "with te.fp8_autocast(fp8_recipe):\n",
    "    outputs = model.generate(\n",
    "        **inputs,\n",
    "        max_new_tokens=256,\n",
    "        # do_sample=False,\n",
    "        # use_cache=True,\n",
    "        # return_dict_in_generate=True\n",
    "    )\n",
    "t1 = time.time()\n",
    "print(f\"Time taken: {t1 - t0:.2f} seconds\")"
   ]
  },
  {
   "cell_type": "code",
   "execution_count": 48,
   "id": "444d4128",
   "metadata": {},
   "outputs": [],
   "source": [
    "decoded_outputs = math_tokenizer.batch_decode(outputs, skip_special_tokens=True)"
   ]
  },
  {
   "cell_type": "code",
   "execution_count": 49,
   "id": "c5b7e836",
   "metadata": {},
   "outputs": [
    {
     "data": {
      "text/plain": [
       "['Find the volume of a sphere with a diameter of 18 meters. Express your answer in terms of $\\\\pi$. of a sphere with a diameter of 18 meters.\\nTo find the volume of a sphere, we use the formula for the volume \\\\( V \\\\) of a sphere:\\n\\n\\\\[\\nV = \\\\frac{4}{3} \\\\pi r^3\\n\\\\]\\n\\nwhere \\\\( r \\\\) is the radius of the sphere.\\n\\nFirst, we need to determine the radius from the given diameter. The diameter \\\\( d \\\\) is twice the radius \\\\( r \\\\):\\n\\n\\\\[\\nd = 2r\\n\\\\]\\n\\nGiven that the diameter \\\\( d \\\\) is 18 meters, we can solve for the radius \\\\( r \\\\):\\n\\n\\\\[\\nr = \\\\frac{d}{2} = \\\\frac{18}{2} = 9 \\\\text{ meters}\\n\\\\]\\n\\nNow, substitute the radius \\\\( r = 9 \\\\) meters into the volume formula:\\n\\n\\\\[\\nV = \\\\frac{4}{3} \\\\pi (9)^3\\n\\\\]\\n\\nNext, calculate \\\\( 9^3 \\\\):\\n\\n\\\\[\\n9^3 = 9 \\\\times 9 \\\\times 9 = 729\\n\\\\]\\n\\nSo the volume becomes:\\n\\n\\\\[\\nV = \\\\frac{4}{3} \\\\pi \\\\times 729\\n\\\\]\\n\\n',\n",
       " 'The following line is parameterized, so that its direction vector is of the form $\\\\begin{pmatrix} a \\\\\\\\ -1 \\\\end{pmatrix}.$  Find $a.$\\n\\n[asy]\\nunitsize(0.4 cm);\\n\\npair A, B, L, R;\\nint i, n;\\n\\nfor (i = -8; i <= 8; ++i) {\\n  draw((i,-8)--(i,8),gray(0.7));\\n  draw((-8,i)--(8,i),gray(0.7));\\n}\\n\\ndraw((-8,0)--(8,0),Arrows(6));\\ndraw((0,-8)--(0,8),Arrows(6));\\n\\nA = (-2,5);\\nB = (1,0);\\nL = extension(A, B, (0,8), (1,8));\\nR = extension(A, B, (0,-8), (1,-8));\\n\\ndraw(L--R, red);\\n\\nlabel(\"$x$\", (8,0), E);\\nlabel(\"$y$\", (0,8), N);\\n[/asy] To determine the value of \\\\(a\\\\) in the direction vector \\\\(\\\\begin{pmatrix} a \\\\\\\\ -1 \\\\end{pmatrix}\\\\) for the given line, we need to analyze the slope of the line. The slope of a line passing through two points \\\\((x_1, y_1)\\\\) and \\\\((x_2, y_2)\\\\) is given by:\\n\\n\\\\[\\nm = \\\\frac{y_2 - y_1}{x_2 - x_1}\\n\\\\]\\n\\nIn this problem, the line passes through the points \\\\((-2, 5)\\\\) and \\\\((1, 0)\\\\). Plugging these coordinates into the slope formula gives us:\\n\\n\\\\[\\nm = \\\\frac{0 - 5}{1 - (-2)} = \\\\frac{-5}{3}\\n\\\\]\\n\\nWe can also express the slope using the direction vector \\\\(\\\\begin{pmatrix} a \\\\\\\\ -1 \\\\end{pmatrix}\\\\). The slope of a line with direction vector \\\\(\\\\begin{pmatrix} a \\\\\\\\ b \\\\end{pmatrix}\\\\) is given by \\\\(\\\\frac{b}{a}\\\\). Here, \\\\(b = -1\\\\) and \\\\(a\\\\) is the unknown scalar multiple of the direction',\n",
       " \"At a school party, there are 15 students who like math, 20 students who like history, and 7 students who like both subjects. If there are 42 students in total, how many students like neither math nor history? party?\\n\\nTo determine the number of students who like neither math nor history at the school party, we can use the principle of inclusion and exclusion. Let's define the following sets:\\n\\n- \\\\( M \\\\) is the set of students who like math.\\n- \\\\( H \\\\) is the set of students who like history.\\n\\nWe are given:\\n- The number of students who like math, \\\\( |M| = 15 \\\\).\\n- The number of students who like history, \\\\( |H| = 20 \\\\).\\n- The number of students who like both subjects, \\\\( |M \\\\cap H| = 7 \\\\).\\n\\nFirst, we need to find the number of students who like either math or history or both. This is given by the formula for the union of two sets:\\n\\n\\\\[\\n|M \\\\cup H| = |M| + |H| - |M \\\\cap H|\\n\\\\]\\n\\nSubstituting the given values:\\n\\n\\\\[\\n|M \\\\cup H| = 15 + 20 - 7 = 28\\n\\\\]\\n\\nThis means that 28 students like either math or history or both. Since there are 42 students in total at the party, the number of students who like neither subject is the total number\",\n",
       " 'A water tank can be filled by two pipes, A and B. Pipe A fills the tank at a rate of 2 cubic meters per hour, while pipe B fills it at a rate of 3 cubic meters per hour. If the tank can hold 120 cubic meters of water, how many hours would it take to fill the tank if both pipes are used simultaneously? is there any other way to solve this problem using mathematical concepts?\\nTo determine how long it will take to fill the tank when both pipes A and B are used simultaneously, we need to consider their combined rates of filling the tank.\\n\\nFirst, let\\'s find the combined rate:\\n- Pipe A fills the tank at a rate of 2 cubic meters per hour.\\n- Pipe B fills the tank at a rate of 3 cubic meters per hour.\\n\\nWhen both pipes are working together, their combined rate is the sum of their individual rates:\\n\\\\[ \\\\text{Combined rate} = 2 + 3 = 5 \\\\text{ cubic meters per hour} \\\\]\\n\\nNext, we need to calculate the time required to fill the entire tank with this combined rate. The total capacity of the tank is 120 cubic meters. Using the formula for time (time = work / rate), where \"work\" is the volume of the tank, we get:\\n\\\\[ \\\\text{Time} = \\\\frac{\\\\text{Work}}{\\\\text{Rate}} = \\\\frac{120 \\\\text{ cubic meters}}{5 \\\\text{ cubic meters per hour}} \\\\]\\n\\\\[ \\\\text{Time} = 24 \\\\text{ hours} \\\\]\\n\\nTherefore, it',\n",
       " 'Let $m$ be a positive integer, and let\\n\\\\[\\\\cos \\\\frac{\\\\pi}{4m} = \\\\sqrt{\\\\frac{n + 1}{2n}}.\\\\]Express $\\\\cot \\\\frac{\\\\pi}{m}$ in terms of $n$.P.S. I know this is a repost but it was not my original post.\\nTo express \\\\(\\\\cot \\\\frac{\\\\pi}{m}\\\\) in terms of \\\\(n\\\\) given that \\\\(\\\\cos \\\\frac{\\\\pi}{4m} = \\\\sqrt{\\\\frac{n+1}{2n}}\\\\), we start by finding \\\\(\\\\sin \\\\frac{\\\\pi}{4m}\\\\). Using the Pythagorean identity for sine and cosine, we have:\\n\\\\[\\n\\\\sin^2 \\\\frac{\\\\pi}{4m} = 1 - \\\\cos^2 \\\\frac{\\\\pi}{4m} = 1 - \\\\left( \\\\sqrt{\\\\frac{n+1}{2n}} \\\\right)^2 = 1 - \\\\frac{n+1}{2n} = \\\\frac{2n - (n+1)}{2n} = \\\\frac{n-1}{2n}.\\n\\\\]\\nThus,\\n\\\\[\\n\\\\sin \\\\frac{\\\\pi}{4m} = \\\\sqrt{\\\\frac{n-1}{2n}}.\\n\\\\]\\nNext, we use the definition of cotangent:\\n\\\\[\\n\\\\cot \\\\frac{\\\\pi}{m} = \\\\frac{\\\\cos \\\\frac{\\\\pi}{m}}{\\\\sin \\\\frac{\\\\pi}{m',\n",
       " 'We flip a fair coin 10 times.  What is the probability that we get heads in exactly 8 of the 10 flips? biased coin with a probability of getting heads as $\\\\frac{2}{3}$ instead of $\\\\frac{1}{2}$. What is the probability of getting heads on at least one of the ten flips?\\nTo determine the probability of getting heads in exactly 8 out of 10 flips for a fair coin, we use the binomial probability formula:\\n\\\\[ P(X = k) = \\\\binom{n}{k} p^k (1-p)^{n-k}, \\\\]\\nwhere \\\\( n = 10 \\\\), \\\\( k = 8 \\\\), and \\\\( p = \\\\frac{1}{2} \\\\). Plugging in these values, we get:\\n\\\\[ P(X = 8) = \\\\binom{10}{8} \\\\left(\\\\frac{1}{2}\\\\right)^8 \\\\left(1 - \\\\frac{1}{2}\\\\right)^{10-8} = \\\\binom{10}{8} \\\\left(\\\\frac{1}{2}\\\\right)^{10}. \\\\]\\nSince \\\\(\\\\binom{10}{8} = \\\\binom{10}{2} = \\\\frac{10 \\\\cdot 9}{2 \\\\cdot 1} = 45\\\\',\n",
       " \"Let \\\\[g(x) = \\\\left\\\\{\\n\\\\begin{array}{cl} cx+2, &\\\\text{ if }x>1, \\\\\\\\\\nx-3 &\\\\text{ if } -1 \\\\le x \\\\le 1, \\\\\\\\\\n3x-d &\\\\text{ if } x <-1.\\n\\\\end{array}\\n\\\\right.\\\\]Find $c+d$ if the piecewise function is continuous.7\\n\\nTo determine the values of \\\\( c \\\\) and \\\\( d \\\\) that make the piecewise function \\\\( g(x) \\\\) continuous at all points, we need to ensure that there are no jumps or breaks in the graph of the function.\\n\\nFirst, let's analyze the continuity at the point where the definition of \\\\( g(x) \\\\) changes, which occurs at \\\\( x = 1 \\\\). At this point, the value of \\\\( g(x) \\\\) from the left must equal the value of \\\\( g(x) \\\\) from the right.\\n\\nFor \\\\( x > 1 \\\\), the expression for \\\\( g(x) \\\\) is \\\\( cx + 2 \\\\).\\nFor \\\\( x < 1 \\\\), the expression for \\\\( g(x) \\\\) is \\\\( 3x - d \\\\).\\n\\nThe value of \\\\( g(x) \\\\) as \\\\( x \\\\) approaches 1 from the right (i.e., \\\\( x \\\\to 1^+ \\\\)) is:\\n\\\\[ \\\\lim_{x \\\\to 1^+} g(x) = c(1) + 2 = c + 2. \\\\]\\n\\nThe value of \\\\( g(x) \\\\) as \\\\( x \\\\) approaches 1 from the left (i.e.,\",\n",
       " 'Simplify $$\\\\frac{11!}{9! + 2\\\\cdot 8!}$$\\\\n\\\\nTo simplify the expression \\\\(\\\\frac{11!}{9! + 2 \\\\cdot 8!}\\\\), we start by expressing \\\\(11!\\\\) and \\\\(8!\\\\) in terms of their factorials:\\n\\n\\\\[11! = 11 \\\\times 10 \\\\times 9! \\\\quad \\\\text{and} \\\\quad 8! = 8 \\\\times 7 \\\\times 6 \\\\times 5 \\\\times 4 \\\\times 3 \\\\times 2 \\\\times 1.\\\\]\\n\\nSubstituting these into the denominator, we get:\\n\\n\\\\[9! + 2 \\\\cdot 8! = 9! + 2 \\\\cdot (8 \\\\times 7 \\\\times 6 \\\\times 5 \\\\times 4 \\\\times 3 \\\\times 2 \\\\times 1).\\\\]\\n\\nWe can rewrite \\\\(9!\\\\) as \\\\(9 \\\\times 8!\\\\):\\n\\n\\\\[9! = 9 \\\\times 8!,\\\\]\\nso\\n\\\\[9! + 2 \\\\cdot 8! = 9 \\\\times 8! + 2 \\\\cdot 8! = (9 + 2) \\\\times 8! = 11 \\\\times 8!. \\\\]\\n\\nNow',\n",
       " \"Given a binary operation $\\\\ast$ defined as $a\\\\ast b=a+b+\\\\sqrt{ab}$, find the value of $3\\\\ast (-8)$. binary operation $\\\\ast$ is defined as $a\\\\ast b = a + b + \\\\sqrt{ab}$. To find the value of \\\\(3 \\\\ast (-8)\\\\), we substitute \\\\(a = 3\\\\) and \\\\(b = -8\\\\) into the definition of the binary operation. This gives us:\\n\\n\\\\[\\n3 \\\\ast (-8) = 3 + (-8) + \\\\sqrt{3 \\\\cdot (-8)}\\n\\\\]\\n\\nFirst, calculate the product inside the square root:\\n\\n\\\\[\\n3 \\\\cdot (-8) = -24\\n\\\\]\\n\\nSo the expression becomes:\\n\\n\\\\[\\n3 \\\\ast (-8) = 3 - 8 + \\\\sqrt{-24}\\n\\\\]\\n\\nSince the square root of a negative number is not a real number, we need to consider if there might be an error or if it's meant to be in terms of complex numbers. However, typically in such problems without additional context, we assume only real numbers are used unless otherwise specified. In this case, let's proceed with the assumption that the problem intends for the result to be in terms of imaginary numbers (which often happens in advanced contexts like quantum mechanics).\\n\\nThus, we can write:\\n\\n\\\\[\\n\\\\sqrt{-24} = \\\\sqrt{2\",\n",
       " \"What is the 15th digit after the decimal point of the product of the decimal equivalents for the fractions $\\\\frac{2}{5}$ and $\\\\frac{3}{11}$? first, we need to find the decimal equivalents for the fractions \\\\(\\\\frac{2}{5}\\\\) and \\\\(\\\\frac{3}{11}\\\\).\\n\\nStarting with \\\\(\\\\frac{2}{5}\\\\):\\n\\\\[\\n\\\\frac{2}{5} = 0.4\\n\\\\]\\n\\nNext, for \\\\(\\\\frac{3}{11}\\\\), we perform long division:\\n\\\\[\\n3 \\\\div 11 = 0.\\\\overline{27}\\n\\\\]\\nThis means that \\\\( \\\\frac{3}{11} = 0.272727\\\\ldots \\\\)\\n\\nNow, we calculate the product of these two decimals:\\n\\\\[\\n0.4 \\\\times 0.272727\\\\ldots\\n\\\\]\\n\\nTo simplify this multiplication, let's multiply \\\\(0.4\\\\) by each digit in the repeating decimal \\\\(0.272727\\\\ldots\\\\):\\n\\nFirst term:\\n\\\\[\\n0.4 \\\\times 0.2 = 0.08\\n\\\\]\\n\\nSecond term:\\n\\\\[\\n0.4 \\\\times 0.7 = 0.28\\n\\\\]\\n\\nThird term:\\n\\\\[\\n0.4 \\\\times 0.2 = 0.\",\n",
       " 'Let $\\\\mathbf{u}$ and $\\\\mathbf{v}$ be two vectors such that $\\\\|\\\\mathbf{u}\\\\| = 3$, $\\\\|\\\\mathbf{v}\\\\| = 4$, and the angle between them is $\\\\pi/3$. If $\\\\mathbf{w}$ is a vector such that $\\\\mathbf{w} \\\\cdot \\\\mathbf{u} = 2$ and $\\\\mathbf{w} \\\\cdot \\\\mathbf{v} = -1$, find $\\\\mathbf{w} \\\\cdot (\\\\mathbf{u} \\\\times \\\\mathbf{v})$.mathbf{u}$ and $\\\\mathbf{v}$ are vectors, we need to use the properties of the dot product and cross product. The formula for the scalar triple product (or mixed product) of three vectors $\\\\mathbf{a}, \\\\mathbf{b}, \\\\mathbf{c}$ is given by:\\n\\n\\\\[\\n\\\\mathbf{a} \\\\cdot (\\\\mathbf{b} \\\\times \\\\mathbf{c}) = |\\\\mathbf{a}| |\\\\mathbf{b}| |\\\\mathbf{c}| \\\\cos(\\\\theta)\\n\\\\]\\n\\nwhere $\\\\theta$ is the angle between the vectors $\\\\mathbf{b}$ and $\\\\mathbf{c}$. In our problem, $\\\\mathbf{a} = \\\\mathbf{w}$, $\\\\mathbf{b} = \\\\mathbf{u}$, and $\\\\mathbf{c} = \\\\mathbf{v}$. We know from the problem statement that $\\\\mathbf{w} \\\\cdot \\\\mathbf{u} = 2$ and $\\\\mathbf{w} \\\\cdot \\\\mathbf{v} = -1$. Therefore, we can substitute these values into the formula above.\\n\\nThe magnitude of $\\\\mathbf{w}$ is not directly needed',\n",
       " \"If $a$, $b$, and $c$ are positive integers satisfying $ab+c = bc+a = ac+b = 41$, what is the value of $a+b+c$?$ \\\\textbf{(A)}\\\\ 50 \\\\qquad\\\\textbf{(B)}\\\\ 69 \\\\qquad\\\\textbf{(C)}\\\\ 78 \\\\qquad\\\\textbf{(D)}\\\\ 82 \\\\qquad\\\\textbf{(E)}\\\\ 93$\\nTo solve for \\\\(a\\\\), \\\\(b\\\\), and \\\\(c\\\\) given the equations \\\\(ab + c = 41\\\\), \\\\(bc + a = 41\\\\), and \\\\(ac + b = 41\\\\), we start by manipulating these equations. First, let's add all three equations together:\\n\\n\\\\[\\n(ab + c) + (bc + a) + (ac + b) = 41 + 41 + 41\\n\\\\]\\n\\nThis simplifies to:\\n\\n\\\\[\\nab + bc + ac + a + b + c = 123\\n\\\\]\\n\\nNext, we can factor out common terms in each equation from the left-hand side:\\n\\n\\\\[\\n(a + b)(b + c) + (a + c)(c + a) + (b + a)(a + b) = 123\\n\\\\]\\n\\nNotice that each term on the left-hand side is identical due\"]"
      ]
     },
     "execution_count": 49,
     "metadata": {},
     "output_type": "execute_result"
    }
   ],
   "source": [
    "decoded_outputs"
   ]
  },
  {
   "cell_type": "code",
   "execution_count": null,
   "id": "234da69c",
   "metadata": {},
   "outputs": [],
   "source": []
  }
 ],
 "metadata": {
  "kernelspec": {
   "display_name": "Python 3",
   "language": "python",
   "name": "python3"
  },
  "language_info": {
   "codemirror_mode": {
    "name": "ipython",
    "version": 3
   },
   "file_extension": ".py",
   "mimetype": "text/x-python",
   "name": "python",
   "nbconvert_exporter": "python",
   "pygments_lexer": "ipython3",
   "version": "3.12.11"
  }
 },
 "nbformat": 4,
 "nbformat_minor": 5
}
